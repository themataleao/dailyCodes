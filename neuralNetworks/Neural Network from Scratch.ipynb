{
 "cells": [
  {
   "cell_type": "code",
   "execution_count": 1,
   "id": "wrapped-brazilian",
   "metadata": {},
   "outputs": [],
   "source": [
    "import numpy as np\n",
    "from scipy.special import expit"
   ]
  },
  {
   "cell_type": "code",
   "execution_count": null,
   "id": "awful-aspect",
   "metadata": {},
   "outputs": [],
   "source": [
    "class NeuralNetwork:\n",
    "    def __init__(self, inputNodes, hiddenNodes, outputNodes, learningRate):\n",
    "        # State initialization\n",
    "        self.inputNodes = inputNodes\n",
    "        self.hiddenNodes = hiddenNodes\n",
    "        self.outputNodes = outputNodes\n",
    "        self.learningRate = learningRate\n",
    "        self.weightsInputHidden = np.random.normal(0.0,pow(self.hiddenNodes, -0.5), (self.hiddenNodes, self.inputNodes))\n",
    "        self.weightOutputHidden = np.random.normal(0.0,pow(self.outputNodes, -0.5), (self.outputNodes, self.hiddenNodes))\n",
    "        # sigmoid function\n",
    "        self.activationFunction =lambda x: expit(x)\n",
    "        pass\n",
    "    def train(self, inputList, targetList):\n",
    "        # We assume that the input is in a list form\n",
    "        # Therefore the target must be a list too\n",
    "        inputs = np.array(inputList, ndmin=2).T\n",
    "        targets = np.array(targetList, ndmin=2).T\n",
    "        hiddenInputs = np.dot(self.weightsInputHidden, inputs)\n",
    "        hiddenOutputs = self.activationFunction(hiddenInputs)\n",
    "        finalInputs = np.dot(self.weightOutputHidden, hiddenOutputs)\n",
    "        finalOutputs = self.activationFunction(finalInputs)\n",
    "        # Calculate error\n",
    "        outputErrors = targets - finalInputs\n",
    "        # Start backpropagation by calculating\n",
    "        hiddenErrors = np.dot(self.weightsOutputHidden.T, outputErrors)\n",
    "        # First calculate the weights between output and hidden\n",
    "        self.weightsOutputHidden += self.learningRate + np.dot((outputErrors * finalOutputs * (1.0 - hiddenOutputs)), inputs.T)\n",
    "        # Secondly calculate the weights between hidden and input\n",
    "        self.weightsInputHidden += self.learningRate + np.dot((hiddenErrors * hiddenOutputs * (1.0 - hiddenOutputs)), inputs.T)\n",
    "        pass\n",
    "    # We write the query function to get a value for a given input list\n",
    "    # Obviously we do exactelly the same as above but without backpropagation\n",
    "    def query(self,inputList):\n",
    "        inputs = np.array(inputList, ndmin=2).T\n",
    "        hiddenInputs = np.dot(self.weightsInputHidden, inputs)\n",
    "        hiddenOutputs = np.dot(self.weightsOutputHidden, hiddenInputs)\n",
    "        finalOutputs = np.dot(self.weightsOutputHidden, hiddenOutputs)\n",
    "        finalOutputs = self.activationFunction(finalOutputs)\n",
    "        return finalOutputs        \n",
    "        \n",
    "        \n",
    "        "
   ]
  },
  {
   "cell_type": "markdown",
   "id": "crude-brighton",
   "metadata": {},
   "source": [
    "## Gradient optimization"
   ]
  },
  {
   "cell_type": "code",
   "execution_count": null,
   "id": "surface-contamination",
   "metadata": {},
   "outputs": [],
   "source": []
  }
 ],
 "metadata": {
  "kernelspec": {
   "display_name": "Python 3",
   "language": "python",
   "name": "python3"
  },
  "language_info": {
   "codemirror_mode": {
    "name": "ipython",
    "version": 3
   },
   "file_extension": ".py",
   "mimetype": "text/x-python",
   "name": "python",
   "nbconvert_exporter": "python",
   "pygments_lexer": "ipython3",
   "version": "3.8.6"
  }
 },
 "nbformat": 4,
 "nbformat_minor": 5
}
